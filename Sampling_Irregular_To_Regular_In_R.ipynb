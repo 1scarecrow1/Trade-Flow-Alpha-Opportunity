{
 "cells": [
  {
   "cell_type": "markdown",
   "id": "4bd37c68",
   "metadata": {},
   "source": [
    "# Irregular To Regular In R"
   ]
  },
  {
   "cell_type": "markdown",
   "id": "b34eefb2",
   "metadata": {
    "ExecuteTime": {
     "end_time": "2024-02-07T21:17:32.556313Z",
     "start_time": "2024-02-07T21:17:32.511Z"
    }
   },
   "source": [
    "When using tick data, its timestamps $t_i$ are irregular.  We often want values from our time series as of a _different_ set of timestamps $\\tau_i$, and we want the computation to be vectorized for speed.  Sometimes the  $\\tau_i$ are regular timestamps, for example when we want to calculate a Sharpe ratio or worst hour or something.  Sometimes the $\\tau_i$  are irregular, for example when we need future (or past price references)\n",
    "\n",
    "The trick to making this work is to take your tick data, and form a new \"joined\" table with rows inserted for all the timestamps you want.  Forward fill it, and then query the big joined table for teh timestamps you need.\n",
    "\n",
    "Another trick we display here is figuring out values from a _different_ tick data table that it had as of the relevant observation times (\"reference times\") in the original tick data table."
   ]
  },
  {
   "cell_type": "code",
   "execution_count": 14,
   "id": "e602241d",
   "metadata": {
    "ExecuteTime": {
     "end_time": "2024-02-07T21:31:06.995503Z",
     "start_time": "2024-02-07T21:31:06.673Z"
    }
   },
   "outputs": [],
   "source": [
    "library(data.table)\n",
    "library(scales)\n",
    "library(ggplot2)"
   ]
  },
  {
   "cell_type": "markdown",
   "id": "856cd783",
   "metadata": {},
   "source": [
    "### Setup"
   ]
  },
  {
   "cell_type": "markdown",
   "id": "6b0f448b",
   "metadata": {},
   "source": [
    "Here we (parametrically) define two irregular tick data tables (one with \"price\" and the other with \"volatility\")"
   ]
  },
  {
   "cell_type": "code",
   "execution_count": 2,
   "id": "a0ececda",
   "metadata": {
    "ExecuteTime": {
     "end_time": "2024-02-07T21:29:58.055808Z",
     "start_time": "2024-02-07T21:29:57.828Z"
    }
   },
   "outputs": [],
   "source": [
    "irreg_count = 16\n",
    "reg_dt = 90\n",
    "reg_offset = 5"
   ]
  },
  {
   "cell_type": "code",
   "execution_count": 3,
   "id": "b206d933",
   "metadata": {
    "ExecuteTime": {
     "end_time": "2024-02-07T21:29:58.125620Z",
     "start_time": "2024-02-07T21:29:57.828Z"
    }
   },
   "outputs": [
    {
     "data": {
      "text/html": [
       "<table class=\"dataframe\">\n",
       "<caption>A data.table: 17 × 3</caption>\n",
       "<thead>\n",
       "\t<tr><th scope=col>time</th><th scope=col>price</th><th scope=col>reference_time</th></tr>\n",
       "\t<tr><th scope=col>&lt;dbl&gt;</th><th scope=col>&lt;dbl&gt;</th><th scope=col>&lt;dbl&gt;</th></tr>\n",
       "</thead>\n",
       "<tbody>\n",
       "\t<tr><td>134</td><td>29.78</td><td>134</td></tr>\n",
       "\t<tr><td>185</td><td>21.17</td><td>185</td></tr>\n",
       "\t<tr><td>255</td><td>24.74</td><td>255</td></tr>\n",
       "\t<tr><td>286</td><td>25.60</td><td>286</td></tr>\n",
       "\t<tr><td>457</td><td>29.04</td><td>457</td></tr>\n",
       "\t<tr><td>462</td><td>21.38</td><td>462</td></tr>\n",
       "\t<tr><td>519</td><td>29.88</td><td>519</td></tr>\n",
       "\t<tr><td>641</td><td>29.46</td><td>641</td></tr>\n",
       "\t<tr><td>656</td><td>20.82</td><td>656</td></tr>\n",
       "\t<tr><td>705</td><td>25.14</td><td>705</td></tr>\n",
       "\t<tr><td>719</td><td>23.90</td><td>719</td></tr>\n",
       "\t<tr><td>736</td><td>29.05</td><td>736</td></tr>\n",
       "\t<tr><td>830</td><td>24.46</td><td>830</td></tr>\n",
       "\t<tr><td>914</td><td>28.36</td><td>914</td></tr>\n",
       "\t<tr><td>934</td><td>27.37</td><td>934</td></tr>\n",
       "\t<tr><td>937</td><td>28.11</td><td>937</td></tr>\n",
       "\t<tr><td>940</td><td>23.88</td><td>940</td></tr>\n",
       "</tbody>\n",
       "</table>\n"
      ],
      "text/latex": [
       "A data.table: 17 × 3\n",
       "\\begin{tabular}{lll}\n",
       " time & price & reference\\_time\\\\\n",
       " <dbl> & <dbl> & <dbl>\\\\\n",
       "\\hline\n",
       "\t 134 & 29.78 & 134\\\\\n",
       "\t 185 & 21.17 & 185\\\\\n",
       "\t 255 & 24.74 & 255\\\\\n",
       "\t 286 & 25.60 & 286\\\\\n",
       "\t 457 & 29.04 & 457\\\\\n",
       "\t 462 & 21.38 & 462\\\\\n",
       "\t 519 & 29.88 & 519\\\\\n",
       "\t 641 & 29.46 & 641\\\\\n",
       "\t 656 & 20.82 & 656\\\\\n",
       "\t 705 & 25.14 & 705\\\\\n",
       "\t 719 & 23.90 & 719\\\\\n",
       "\t 736 & 29.05 & 736\\\\\n",
       "\t 830 & 24.46 & 830\\\\\n",
       "\t 914 & 28.36 & 914\\\\\n",
       "\t 934 & 27.37 & 934\\\\\n",
       "\t 937 & 28.11 & 937\\\\\n",
       "\t 940 & 23.88 & 940\\\\\n",
       "\\end{tabular}\n"
      ],
      "text/markdown": [
       "\n",
       "A data.table: 17 × 3\n",
       "\n",
       "| time &lt;dbl&gt; | price &lt;dbl&gt; | reference_time &lt;dbl&gt; |\n",
       "|---|---|---|\n",
       "| 134 | 29.78 | 134 |\n",
       "| 185 | 21.17 | 185 |\n",
       "| 255 | 24.74 | 255 |\n",
       "| 286 | 25.60 | 286 |\n",
       "| 457 | 29.04 | 457 |\n",
       "| 462 | 21.38 | 462 |\n",
       "| 519 | 29.88 | 519 |\n",
       "| 641 | 29.46 | 641 |\n",
       "| 656 | 20.82 | 656 |\n",
       "| 705 | 25.14 | 705 |\n",
       "| 719 | 23.90 | 719 |\n",
       "| 736 | 29.05 | 736 |\n",
       "| 830 | 24.46 | 830 |\n",
       "| 914 | 28.36 | 914 |\n",
       "| 934 | 27.37 | 934 |\n",
       "| 937 | 28.11 | 937 |\n",
       "| 940 | 23.88 | 940 |\n",
       "\n"
      ],
      "text/plain": [
       "   time price reference_time\n",
       "1  134  29.78 134           \n",
       "2  185  21.17 185           \n",
       "3  255  24.74 255           \n",
       "4  286  25.60 286           \n",
       "5  457  29.04 457           \n",
       "6  462  21.38 462           \n",
       "7  519  29.88 519           \n",
       "8  641  29.46 641           \n",
       "9  656  20.82 656           \n",
       "10 705  25.14 705           \n",
       "11 719  23.90 719           \n",
       "12 736  29.05 736           \n",
       "13 830  24.46 830           \n",
       "14 914  28.36 914           \n",
       "15 934  27.37 934           \n",
       "16 937  28.11 937           \n",
       "17 940  23.88 940           "
      ]
     },
     "metadata": {},
     "output_type": "display_data"
    }
   ],
   "source": [
    "# Set up random time and price observations\n",
    "set.seed(42)\n",
    "ts = unique(c(reg_offset + 2*reg_dt,as.integer(1000*runif(irreg_count))))\n",
    "ps = 20+as.integer(1000*runif(length(ts)))/100\n",
    "ts = ts[order(ts)]\n",
    "irreg = data.table(time=ts, price=ps)\n",
    "\n",
    "# Make different irregular table with some datum we care about, here we call it volatility but it could be a mid price\n",
    "ots = unique(as.integer(1000*runif(2*length(ts))))\n",
    "vs = 10 + as.integer(1000*runif(length(ots)))/200\n",
    "ots = ots[order(ots)]\n",
    "other_irreg = data.table(time=ots, vola=vs)\n",
    "\n",
    "# Convenient to have a reference time column equal to our time index, for lookups\n",
    "irreg$reference_time = irreg$time\n",
    "other_irreg$reference_time = other_irreg$time\n",
    "\n",
    "irreg"
   ]
  },
  {
   "cell_type": "code",
   "execution_count": 4,
   "id": "06172610",
   "metadata": {
    "ExecuteTime": {
     "end_time": "2024-02-07T21:29:58.152909Z",
     "start_time": "2024-02-07T21:29:57.829Z"
    }
   },
   "outputs": [
    {
     "data": {
      "text/html": [
       "<table class=\"dataframe\">\n",
       "<caption>A data.table: 34 × 3</caption>\n",
       "<thead>\n",
       "\t<tr><th scope=col>time</th><th scope=col>vola</th><th scope=col>reference_time</th></tr>\n",
       "\t<tr><th scope=col>&lt;int&gt;</th><th scope=col>&lt;dbl&gt;</th><th scope=col>&lt;int&gt;</th></tr>\n",
       "</thead>\n",
       "<tbody>\n",
       "\t<tr><td>  3</td><td>14.140</td><td>  3</td></tr>\n",
       "\t<tr><td>  7</td><td>13.465</td><td>  7</td></tr>\n",
       "\t<tr><td> 37</td><td>11.200</td><td> 37</td></tr>\n",
       "\t<tr><td> 38</td><td>10.210</td><td> 38</td></tr>\n",
       "\t<tr><td>171</td><td>10.700</td><td>171</td></tr>\n",
       "\t<tr><td>189</td><td>11.080</td><td>189</td></tr>\n",
       "\t<tr><td>207</td><td>12.395</td><td>207</td></tr>\n",
       "\t<tr><td>261</td><td>10.985</td><td>261</td></tr>\n",
       "\t<tr><td>271</td><td>13.595</td><td>271</td></tr>\n",
       "\t<tr><td>333</td><td>10.035</td><td>333</td></tr>\n",
       "\t<tr><td>346</td><td>11.875</td><td>346</td></tr>\n",
       "\t<tr><td>379</td><td>12.570</td><td>379</td></tr>\n",
       "\t<tr><td>398</td><td>10.005</td><td>398</td></tr>\n",
       "\t<tr><td>431</td><td>12.905</td><td>431</td></tr>\n",
       "\t<tr><td>435</td><td>10.785</td><td>435</td></tr>\n",
       "\t<tr><td>514</td><td>11.795</td><td>514</td></tr>\n",
       "\t<tr><td>566</td><td>13.225</td><td>566</td></tr>\n",
       "\t<tr><td>611</td><td>13.875</td><td>611</td></tr>\n",
       "\t<tr><td>618</td><td>12.815</td><td>618</td></tr>\n",
       "\t<tr><td>639</td><td>11.165</td><td>639</td></tr>\n",
       "\t<tr><td>675</td><td>10.445</td><td>675</td></tr>\n",
       "\t<tr><td>677</td><td>10.425</td><td>677</td></tr>\n",
       "\t<tr><td>685</td><td>11.525</td><td>685</td></tr>\n",
       "\t<tr><td>748</td><td>13.335</td><td>748</td></tr>\n",
       "\t<tr><td>759</td><td>10.000</td><td>759</td></tr>\n",
       "\t<tr><td>784</td><td>11.040</td><td>784</td></tr>\n",
       "\t<tr><td>832</td><td>14.665</td><td>832</td></tr>\n",
       "\t<tr><td>849</td><td>14.625</td><td>849</td></tr>\n",
       "\t<tr><td>887</td><td>13.670</td><td>887</td></tr>\n",
       "\t<tr><td>906</td><td>11.665</td><td>906</td></tr>\n",
       "\t<tr><td>957</td><td>12.575</td><td>957</td></tr>\n",
       "\t<tr><td>970</td><td>13.715</td><td>970</td></tr>\n",
       "\t<tr><td>973</td><td>13.095</td><td>973</td></tr>\n",
       "\t<tr><td>982</td><td>13.130</td><td>982</td></tr>\n",
       "</tbody>\n",
       "</table>\n"
      ],
      "text/latex": [
       "A data.table: 34 × 3\n",
       "\\begin{tabular}{lll}\n",
       " time & vola & reference\\_time\\\\\n",
       " <int> & <dbl> & <int>\\\\\n",
       "\\hline\n",
       "\t   3 & 14.140 &   3\\\\\n",
       "\t   7 & 13.465 &   7\\\\\n",
       "\t  37 & 11.200 &  37\\\\\n",
       "\t  38 & 10.210 &  38\\\\\n",
       "\t 171 & 10.700 & 171\\\\\n",
       "\t 189 & 11.080 & 189\\\\\n",
       "\t 207 & 12.395 & 207\\\\\n",
       "\t 261 & 10.985 & 261\\\\\n",
       "\t 271 & 13.595 & 271\\\\\n",
       "\t 333 & 10.035 & 333\\\\\n",
       "\t 346 & 11.875 & 346\\\\\n",
       "\t 379 & 12.570 & 379\\\\\n",
       "\t 398 & 10.005 & 398\\\\\n",
       "\t 431 & 12.905 & 431\\\\\n",
       "\t 435 & 10.785 & 435\\\\\n",
       "\t 514 & 11.795 & 514\\\\\n",
       "\t 566 & 13.225 & 566\\\\\n",
       "\t 611 & 13.875 & 611\\\\\n",
       "\t 618 & 12.815 & 618\\\\\n",
       "\t 639 & 11.165 & 639\\\\\n",
       "\t 675 & 10.445 & 675\\\\\n",
       "\t 677 & 10.425 & 677\\\\\n",
       "\t 685 & 11.525 & 685\\\\\n",
       "\t 748 & 13.335 & 748\\\\\n",
       "\t 759 & 10.000 & 759\\\\\n",
       "\t 784 & 11.040 & 784\\\\\n",
       "\t 832 & 14.665 & 832\\\\\n",
       "\t 849 & 14.625 & 849\\\\\n",
       "\t 887 & 13.670 & 887\\\\\n",
       "\t 906 & 11.665 & 906\\\\\n",
       "\t 957 & 12.575 & 957\\\\\n",
       "\t 970 & 13.715 & 970\\\\\n",
       "\t 973 & 13.095 & 973\\\\\n",
       "\t 982 & 13.130 & 982\\\\\n",
       "\\end{tabular}\n"
      ],
      "text/markdown": [
       "\n",
       "A data.table: 34 × 3\n",
       "\n",
       "| time &lt;int&gt; | vola &lt;dbl&gt; | reference_time &lt;int&gt; |\n",
       "|---|---|---|\n",
       "|   3 | 14.140 |   3 |\n",
       "|   7 | 13.465 |   7 |\n",
       "|  37 | 11.200 |  37 |\n",
       "|  38 | 10.210 |  38 |\n",
       "| 171 | 10.700 | 171 |\n",
       "| 189 | 11.080 | 189 |\n",
       "| 207 | 12.395 | 207 |\n",
       "| 261 | 10.985 | 261 |\n",
       "| 271 | 13.595 | 271 |\n",
       "| 333 | 10.035 | 333 |\n",
       "| 346 | 11.875 | 346 |\n",
       "| 379 | 12.570 | 379 |\n",
       "| 398 | 10.005 | 398 |\n",
       "| 431 | 12.905 | 431 |\n",
       "| 435 | 10.785 | 435 |\n",
       "| 514 | 11.795 | 514 |\n",
       "| 566 | 13.225 | 566 |\n",
       "| 611 | 13.875 | 611 |\n",
       "| 618 | 12.815 | 618 |\n",
       "| 639 | 11.165 | 639 |\n",
       "| 675 | 10.445 | 675 |\n",
       "| 677 | 10.425 | 677 |\n",
       "| 685 | 11.525 | 685 |\n",
       "| 748 | 13.335 | 748 |\n",
       "| 759 | 10.000 | 759 |\n",
       "| 784 | 11.040 | 784 |\n",
       "| 832 | 14.665 | 832 |\n",
       "| 849 | 14.625 | 849 |\n",
       "| 887 | 13.670 | 887 |\n",
       "| 906 | 11.665 | 906 |\n",
       "| 957 | 12.575 | 957 |\n",
       "| 970 | 13.715 | 970 |\n",
       "| 973 | 13.095 | 973 |\n",
       "| 982 | 13.130 | 982 |\n",
       "\n"
      ],
      "text/plain": [
       "   time vola   reference_time\n",
       "1    3  14.140   3           \n",
       "2    7  13.465   7           \n",
       "3   37  11.200  37           \n",
       "4   38  10.210  38           \n",
       "5  171  10.700 171           \n",
       "6  189  11.080 189           \n",
       "7  207  12.395 207           \n",
       "8  261  10.985 261           \n",
       "9  271  13.595 271           \n",
       "10 333  10.035 333           \n",
       "11 346  11.875 346           \n",
       "12 379  12.570 379           \n",
       "13 398  10.005 398           \n",
       "14 431  12.905 431           \n",
       "15 435  10.785 435           \n",
       "16 514  11.795 514           \n",
       "17 566  13.225 566           \n",
       "18 611  13.875 611           \n",
       "19 618  12.815 618           \n",
       "20 639  11.165 639           \n",
       "21 675  10.445 675           \n",
       "22 677  10.425 677           \n",
       "23 685  11.525 685           \n",
       "24 748  13.335 748           \n",
       "25 759  10.000 759           \n",
       "26 784  11.040 784           \n",
       "27 832  14.665 832           \n",
       "28 849  14.625 849           \n",
       "29 887  13.670 887           \n",
       "30 906  11.665 906           \n",
       "31 957  12.575 957           \n",
       "32 970  13.715 970           \n",
       "33 973  13.095 973           \n",
       "34 982  13.130 982           "
      ]
     },
     "metadata": {},
     "output_type": "display_data"
    }
   ],
   "source": [
    "other_irreg"
   ]
  },
  {
   "cell_type": "code",
   "execution_count": 5,
   "id": "fa0d4e91",
   "metadata": {
    "ExecuteTime": {
     "end_time": "2024-02-07T21:29:58.168955Z",
     "start_time": "2024-02-07T21:29:57.830Z"
    }
   },
   "outputs": [
    {
     "data": {
      "text/html": [
       "<style>\n",
       ".list-inline {list-style: none; margin:0; padding: 0}\n",
       ".list-inline>li {display: inline-block}\n",
       ".list-inline>li:not(:last-child)::after {content: \"\\00b7\"; padding: 0 .5ex}\n",
       "</style>\n",
       "<ol class=list-inline><li>95</li><li>185</li><li>275</li><li>365</li><li>455</li><li>545</li><li>635</li><li>725</li><li>815</li><li>905</li><li>995</li></ol>\n"
      ],
      "text/latex": [
       "\\begin{enumerate*}\n",
       "\\item 95\n",
       "\\item 185\n",
       "\\item 275\n",
       "\\item 365\n",
       "\\item 455\n",
       "\\item 545\n",
       "\\item 635\n",
       "\\item 725\n",
       "\\item 815\n",
       "\\item 905\n",
       "\\item 995\n",
       "\\end{enumerate*}\n"
      ],
      "text/markdown": [
       "1. 95\n",
       "2. 185\n",
       "3. 275\n",
       "4. 365\n",
       "5. 455\n",
       "6. 545\n",
       "7. 635\n",
       "8. 725\n",
       "9. 815\n",
       "10. 905\n",
       "11. 995\n",
       "\n",
       "\n"
      ],
      "text/plain": [
       " [1]  95 185 275 365 455 545 635 725 815 905 995"
      ]
     },
     "metadata": {},
     "output_type": "display_data"
    }
   ],
   "source": [
    "# Define the timestamps we want forward-fill values for (they are called \"regular\" here, but actually do not need to be regular)\n",
    "reg_ts = reg_offset + scales::fullseq(range(ts), reg_dt)\n",
    "reg_ts"
   ]
  },
  {
   "cell_type": "markdown",
   "id": "9350cb6a",
   "metadata": {},
   "source": [
    "### Figure out the most recent values of price for our regular timestamps"
   ]
  },
  {
   "cell_type": "markdown",
   "id": "1c69180b",
   "metadata": {},
   "source": [
    "Here we show how to do the joined table trick in long form"
   ]
  },
  {
   "cell_type": "code",
   "execution_count": 6,
   "id": "0c5fc8ea",
   "metadata": {
    "ExecuteTime": {
     "end_time": "2024-02-07T21:29:58.185742Z",
     "start_time": "2024-02-07T21:29:57.830Z"
    }
   },
   "outputs": [
    {
     "data": {
      "text/html": [
       "<style>\n",
       ".list-inline {list-style: none; margin:0; padding: 0}\n",
       ".list-inline>li {display: inline-block}\n",
       ".list-inline>li:not(:last-child)::after {content: \"\\00b7\"; padding: 0 .5ex}\n",
       "</style>\n",
       "<ol class=list-inline><li>95</li><li>134</li><li>185</li><li>255</li><li>275</li><li>286</li><li>365</li><li>455</li><li>457</li><li>462</li><li>519</li><li>545</li><li>635</li><li>641</li><li>656</li><li>705</li><li>719</li><li>725</li><li>736</li><li>815</li><li>830</li><li>905</li><li>914</li><li>934</li><li>937</li><li>940</li><li>995</li></ol>\n"
      ],
      "text/latex": [
       "\\begin{enumerate*}\n",
       "\\item 95\n",
       "\\item 134\n",
       "\\item 185\n",
       "\\item 255\n",
       "\\item 275\n",
       "\\item 286\n",
       "\\item 365\n",
       "\\item 455\n",
       "\\item 457\n",
       "\\item 462\n",
       "\\item 519\n",
       "\\item 545\n",
       "\\item 635\n",
       "\\item 641\n",
       "\\item 656\n",
       "\\item 705\n",
       "\\item 719\n",
       "\\item 725\n",
       "\\item 736\n",
       "\\item 815\n",
       "\\item 830\n",
       "\\item 905\n",
       "\\item 914\n",
       "\\item 934\n",
       "\\item 937\n",
       "\\item 940\n",
       "\\item 995\n",
       "\\end{enumerate*}\n"
      ],
      "text/markdown": [
       "1. 95\n",
       "2. 134\n",
       "3. 185\n",
       "4. 255\n",
       "5. 275\n",
       "6. 286\n",
       "7. 365\n",
       "8. 455\n",
       "9. 457\n",
       "10. 462\n",
       "11. 519\n",
       "12. 545\n",
       "13. 635\n",
       "14. 641\n",
       "15. 656\n",
       "16. 705\n",
       "17. 719\n",
       "18. 725\n",
       "19. 736\n",
       "20. 815\n",
       "21. 830\n",
       "22. 905\n",
       "23. 914\n",
       "24. 934\n",
       "25. 937\n",
       "26. 940\n",
       "27. 995\n",
       "\n",
       "\n"
      ],
      "text/plain": [
       " [1]  95 134 185 255 275 286 365 455 457 462 519 545 635 641 656 705 719 725 736\n",
       "[20] 815 830 905 914 934 937 940 995"
      ]
     },
     "metadata": {},
     "output_type": "display_data"
    }
   ],
   "source": [
    "joined_ts = unique(c(reg_ts, irreg$time))\n",
    "joined_ts = joined_ts[order(joined_ts)]  # Note it is important to SORT joined indexes so forward fill works properly, pd.Index.union() does that by default\n",
    "\n",
    "joined_ts"
   ]
  },
  {
   "cell_type": "code",
   "execution_count": 7,
   "id": "87966e97",
   "metadata": {
    "ExecuteTime": {
     "end_time": "2024-02-07T21:29:58.227891Z",
     "start_time": "2024-02-07T21:29:57.831Z"
    }
   },
   "outputs": [
    {
     "data": {
      "text/html": [
       "<table class=\"dataframe\">\n",
       "<caption>A data.table: 27 × 3</caption>\n",
       "<thead>\n",
       "\t<tr><th scope=col>time</th><th scope=col>price</th><th scope=col>reference_time</th></tr>\n",
       "\t<tr><th scope=col>&lt;dbl&gt;</th><th scope=col>&lt;dbl&gt;</th><th scope=col>&lt;dbl&gt;</th></tr>\n",
       "</thead>\n",
       "<tbody>\n",
       "\t<tr><td> 95</td><td>   NA</td><td> NA</td></tr>\n",
       "\t<tr><td>134</td><td>29.78</td><td>134</td></tr>\n",
       "\t<tr><td>185</td><td>21.17</td><td>185</td></tr>\n",
       "\t<tr><td>255</td><td>24.74</td><td>255</td></tr>\n",
       "\t<tr><td>275</td><td>24.74</td><td>255</td></tr>\n",
       "\t<tr><td>286</td><td>25.60</td><td>286</td></tr>\n",
       "\t<tr><td>365</td><td>25.60</td><td>286</td></tr>\n",
       "\t<tr><td>455</td><td>25.60</td><td>286</td></tr>\n",
       "\t<tr><td>457</td><td>29.04</td><td>457</td></tr>\n",
       "\t<tr><td>462</td><td>21.38</td><td>462</td></tr>\n",
       "\t<tr><td>519</td><td>29.88</td><td>519</td></tr>\n",
       "\t<tr><td>545</td><td>29.88</td><td>519</td></tr>\n",
       "\t<tr><td>635</td><td>29.88</td><td>519</td></tr>\n",
       "\t<tr><td>641</td><td>29.46</td><td>641</td></tr>\n",
       "\t<tr><td>656</td><td>20.82</td><td>656</td></tr>\n",
       "\t<tr><td>705</td><td>25.14</td><td>705</td></tr>\n",
       "\t<tr><td>719</td><td>23.90</td><td>719</td></tr>\n",
       "\t<tr><td>725</td><td>23.90</td><td>719</td></tr>\n",
       "\t<tr><td>736</td><td>29.05</td><td>736</td></tr>\n",
       "\t<tr><td>815</td><td>29.05</td><td>736</td></tr>\n",
       "\t<tr><td>830</td><td>24.46</td><td>830</td></tr>\n",
       "\t<tr><td>905</td><td>24.46</td><td>830</td></tr>\n",
       "\t<tr><td>914</td><td>28.36</td><td>914</td></tr>\n",
       "\t<tr><td>934</td><td>27.37</td><td>934</td></tr>\n",
       "\t<tr><td>937</td><td>28.11</td><td>937</td></tr>\n",
       "\t<tr><td>940</td><td>23.88</td><td>940</td></tr>\n",
       "\t<tr><td>995</td><td>23.88</td><td>940</td></tr>\n",
       "</tbody>\n",
       "</table>\n"
      ],
      "text/latex": [
       "A data.table: 27 × 3\n",
       "\\begin{tabular}{lll}\n",
       " time & price & reference\\_time\\\\\n",
       " <dbl> & <dbl> & <dbl>\\\\\n",
       "\\hline\n",
       "\t  95 &    NA &  NA\\\\\n",
       "\t 134 & 29.78 & 134\\\\\n",
       "\t 185 & 21.17 & 185\\\\\n",
       "\t 255 & 24.74 & 255\\\\\n",
       "\t 275 & 24.74 & 255\\\\\n",
       "\t 286 & 25.60 & 286\\\\\n",
       "\t 365 & 25.60 & 286\\\\\n",
       "\t 455 & 25.60 & 286\\\\\n",
       "\t 457 & 29.04 & 457\\\\\n",
       "\t 462 & 21.38 & 462\\\\\n",
       "\t 519 & 29.88 & 519\\\\\n",
       "\t 545 & 29.88 & 519\\\\\n",
       "\t 635 & 29.88 & 519\\\\\n",
       "\t 641 & 29.46 & 641\\\\\n",
       "\t 656 & 20.82 & 656\\\\\n",
       "\t 705 & 25.14 & 705\\\\\n",
       "\t 719 & 23.90 & 719\\\\\n",
       "\t 725 & 23.90 & 719\\\\\n",
       "\t 736 & 29.05 & 736\\\\\n",
       "\t 815 & 29.05 & 736\\\\\n",
       "\t 830 & 24.46 & 830\\\\\n",
       "\t 905 & 24.46 & 830\\\\\n",
       "\t 914 & 28.36 & 914\\\\\n",
       "\t 934 & 27.37 & 934\\\\\n",
       "\t 937 & 28.11 & 937\\\\\n",
       "\t 940 & 23.88 & 940\\\\\n",
       "\t 995 & 23.88 & 940\\\\\n",
       "\\end{tabular}\n"
      ],
      "text/markdown": [
       "\n",
       "A data.table: 27 × 3\n",
       "\n",
       "| time &lt;dbl&gt; | price &lt;dbl&gt; | reference_time &lt;dbl&gt; |\n",
       "|---|---|---|\n",
       "|  95 |    NA |  NA |\n",
       "| 134 | 29.78 | 134 |\n",
       "| 185 | 21.17 | 185 |\n",
       "| 255 | 24.74 | 255 |\n",
       "| 275 | 24.74 | 255 |\n",
       "| 286 | 25.60 | 286 |\n",
       "| 365 | 25.60 | 286 |\n",
       "| 455 | 25.60 | 286 |\n",
       "| 457 | 29.04 | 457 |\n",
       "| 462 | 21.38 | 462 |\n",
       "| 519 | 29.88 | 519 |\n",
       "| 545 | 29.88 | 519 |\n",
       "| 635 | 29.88 | 519 |\n",
       "| 641 | 29.46 | 641 |\n",
       "| 656 | 20.82 | 656 |\n",
       "| 705 | 25.14 | 705 |\n",
       "| 719 | 23.90 | 719 |\n",
       "| 725 | 23.90 | 719 |\n",
       "| 736 | 29.05 | 736 |\n",
       "| 815 | 29.05 | 736 |\n",
       "| 830 | 24.46 | 830 |\n",
       "| 905 | 24.46 | 830 |\n",
       "| 914 | 28.36 | 914 |\n",
       "| 934 | 27.37 | 934 |\n",
       "| 937 | 28.11 | 937 |\n",
       "| 940 | 23.88 | 940 |\n",
       "| 995 | 23.88 | 940 |\n",
       "\n"
      ],
      "text/plain": [
       "   time price reference_time\n",
       "1   95     NA  NA           \n",
       "2  134  29.78 134           \n",
       "3  185  21.17 185           \n",
       "4  255  24.74 255           \n",
       "5  275  24.74 255           \n",
       "6  286  25.60 286           \n",
       "7  365  25.60 286           \n",
       "8  455  25.60 286           \n",
       "9  457  29.04 457           \n",
       "10 462  21.38 462           \n",
       "11 519  29.88 519           \n",
       "12 545  29.88 519           \n",
       "13 635  29.88 519           \n",
       "14 641  29.46 641           \n",
       "15 656  20.82 656           \n",
       "16 705  25.14 705           \n",
       "17 719  23.90 719           \n",
       "18 725  23.90 719           \n",
       "19 736  29.05 736           \n",
       "20 815  29.05 736           \n",
       "21 830  24.46 830           \n",
       "22 905  24.46 830           \n",
       "23 914  28.36 914           \n",
       "24 934  27.37 934           \n",
       "25 937  28.11 937           \n",
       "26 940  23.88 940           \n",
       "27 995  23.88 940           "
      ]
     },
     "metadata": {},
     "output_type": "display_data"
    }
   ],
   "source": [
    "# Make a data.table defining all times together\n",
    "jts = irreg[, .(time = joined_ts)]\n",
    "\n",
    "# Construct a \"big\" table with slots for all columns at all timestamps\n",
    "joined_with_NA = irreg[jts, on='time']\n",
    "                                      \n",
    "# Tell the joined table to use most recently observed value (the Python equivalent is df.fillna(method='ffill'))\n",
    "setnafill(joined_with_NA, type = \"locf\")\n",
    "\n",
    "joined_with_NA"
   ]
  },
  {
   "cell_type": "code",
   "execution_count": 8,
   "id": "7ac3fbd6",
   "metadata": {
    "ExecuteTime": {
     "end_time": "2024-02-07T21:29:58.254877Z",
     "start_time": "2024-02-07T21:29:57.832Z"
    }
   },
   "outputs": [
    {
     "data": {
      "text/html": [
       "<table class=\"dataframe\">\n",
       "<caption>A data.table: 11 × 3</caption>\n",
       "<thead>\n",
       "\t<tr><th scope=col>time</th><th scope=col>price</th><th scope=col>reference_time</th></tr>\n",
       "\t<tr><th scope=col>&lt;dbl&gt;</th><th scope=col>&lt;dbl&gt;</th><th scope=col>&lt;dbl&gt;</th></tr>\n",
       "</thead>\n",
       "<tbody>\n",
       "\t<tr><td> 95</td><td>   NA</td><td> NA</td></tr>\n",
       "\t<tr><td>185</td><td>21.17</td><td>185</td></tr>\n",
       "\t<tr><td>275</td><td>24.74</td><td>255</td></tr>\n",
       "\t<tr><td>365</td><td>25.60</td><td>286</td></tr>\n",
       "\t<tr><td>455</td><td>25.60</td><td>286</td></tr>\n",
       "\t<tr><td>545</td><td>29.88</td><td>519</td></tr>\n",
       "\t<tr><td>635</td><td>29.88</td><td>519</td></tr>\n",
       "\t<tr><td>725</td><td>23.90</td><td>719</td></tr>\n",
       "\t<tr><td>815</td><td>29.05</td><td>736</td></tr>\n",
       "\t<tr><td>905</td><td>24.46</td><td>830</td></tr>\n",
       "\t<tr><td>995</td><td>23.88</td><td>940</td></tr>\n",
       "</tbody>\n",
       "</table>\n"
      ],
      "text/latex": [
       "A data.table: 11 × 3\n",
       "\\begin{tabular}{lll}\n",
       " time & price & reference\\_time\\\\\n",
       " <dbl> & <dbl> & <dbl>\\\\\n",
       "\\hline\n",
       "\t  95 &    NA &  NA\\\\\n",
       "\t 185 & 21.17 & 185\\\\\n",
       "\t 275 & 24.74 & 255\\\\\n",
       "\t 365 & 25.60 & 286\\\\\n",
       "\t 455 & 25.60 & 286\\\\\n",
       "\t 545 & 29.88 & 519\\\\\n",
       "\t 635 & 29.88 & 519\\\\\n",
       "\t 725 & 23.90 & 719\\\\\n",
       "\t 815 & 29.05 & 736\\\\\n",
       "\t 905 & 24.46 & 830\\\\\n",
       "\t 995 & 23.88 & 940\\\\\n",
       "\\end{tabular}\n"
      ],
      "text/markdown": [
       "\n",
       "A data.table: 11 × 3\n",
       "\n",
       "| time &lt;dbl&gt; | price &lt;dbl&gt; | reference_time &lt;dbl&gt; |\n",
       "|---|---|---|\n",
       "|  95 |    NA |  NA |\n",
       "| 185 | 21.17 | 185 |\n",
       "| 275 | 24.74 | 255 |\n",
       "| 365 | 25.60 | 286 |\n",
       "| 455 | 25.60 | 286 |\n",
       "| 545 | 29.88 | 519 |\n",
       "| 635 | 29.88 | 519 |\n",
       "| 725 | 23.90 | 719 |\n",
       "| 815 | 29.05 | 736 |\n",
       "| 905 | 24.46 | 830 |\n",
       "| 995 | 23.88 | 940 |\n",
       "\n"
      ],
      "text/plain": [
       "   time price reference_time\n",
       "1   95     NA  NA           \n",
       "2  185  21.17 185           \n",
       "3  275  24.74 255           \n",
       "4  365  25.60 286           \n",
       "5  455  25.60 286           \n",
       "6  545  29.88 519           \n",
       "7  635  29.88 519           \n",
       "8  725  23.90 719           \n",
       "9  815  29.05 736           \n",
       "10 905  24.46 830           \n",
       "11 995  23.88 940           "
      ]
     },
     "metadata": {},
     "output_type": "display_data"
    }
   ],
   "source": [
    "# Sample the \"big\" table at the timestamps we really want\n",
    "wanted = joined_with_NA[,.(time=reg_ts)]\n",
    "regular_values = joined_with_NA[wanted, on=.(time)]\n",
    "regular_values"
   ]
  },
  {
   "cell_type": "markdown",
   "id": "a4d655cc",
   "metadata": {},
   "source": [
    "### What were the _volatilities_ as of the reference times in this data frame?"
   ]
  },
  {
   "cell_type": "markdown",
   "id": "31d3e21d",
   "metadata": {},
   "source": [
    "We use a similar trick as above.  For convenience let's definie everything in a function"
   ]
  },
  {
   "cell_type": "markdown",
   "id": "2f379b34",
   "metadata": {},
   "source": [
    "##### Function For Inferring Values"
   ]
  },
  {
   "cell_type": "code",
   "execution_count": 9,
   "id": "c1d9490b",
   "metadata": {
    "ExecuteTime": {
     "end_time": "2024-02-07T21:29:58.267390Z",
     "start_time": "2024-02-07T21:29:57.833Z"
    }
   },
   "outputs": [],
   "source": [
    "infer_values = function(wanted_timestamps, data_df, time_colm='time') {\n",
    "    # Ensure we have a time column\n",
    "    stopifnot(time_colm %in% names(data_df))\n",
    "    \n",
    "    # Same as above, just a little generalized\n",
    "    joined_ts = unique(c(wanted_timestamps, data_df[,get(time_colm)]))\n",
    "    joined_ts = joined_ts[order(joined_ts)]\n",
    "    \n",
    "    # Using eval(parse(...)) here is working but hacky\n",
    "    join_expr = paste('.(', time_colm,' = joined_ts)', sep='')\n",
    "    jts = data_df[, eval(parse(text=join_expr))]  \n",
    "    \n",
    "    joined_with_NA = data_df[jts, on=time_colm]\n",
    "    setnafill(joined_with_NA, type = \"locf\")\n",
    "    want_expr = paste('.(', time_colm,' = wanted_timestamps)', sep='')\n",
    "    wanted = joined_with_NA[,eval(parse(text=want_expr))]\n",
    "    wanted_values = joined_with_NA[wanted, on=time_colm]\n",
    "    wanted_values\n",
    "}"
   ]
  },
  {
   "cell_type": "markdown",
   "id": "19de6e7a",
   "metadata": {
    "ExecuteTime": {
     "end_time": "2024-02-07T21:29:34.017944Z",
     "start_time": "2024-02-07T21:29:33.974Z"
    }
   },
   "source": [
    "##### Using The Function To Get Values At The Regular Times"
   ]
  },
  {
   "cell_type": "code",
   "execution_count": 10,
   "id": "551f6620",
   "metadata": {
    "ExecuteTime": {
     "end_time": "2024-02-07T21:29:58.298581Z",
     "start_time": "2024-02-07T21:29:57.833Z"
    }
   },
   "outputs": [
    {
     "data": {
      "text/html": [
       "<style>\n",
       ".list-inline {list-style: none; margin:0; padding: 0}\n",
       ".list-inline>li {display: inline-block}\n",
       ".list-inline>li:not(:last-child)::after {content: \"\\00b7\"; padding: 0 .5ex}\n",
       "</style>\n",
       "<ol class=list-inline><li>10.21</li><li>10.7</li><li>13.595</li><li>11.875</li><li>10.785</li><li>11.795</li><li>12.815</li><li>11.525</li><li>11.04</li><li>13.67</li><li>13.13</li></ol>\n"
      ],
      "text/latex": [
       "\\begin{enumerate*}\n",
       "\\item 10.21\n",
       "\\item 10.7\n",
       "\\item 13.595\n",
       "\\item 11.875\n",
       "\\item 10.785\n",
       "\\item 11.795\n",
       "\\item 12.815\n",
       "\\item 11.525\n",
       "\\item 11.04\n",
       "\\item 13.67\n",
       "\\item 13.13\n",
       "\\end{enumerate*}\n"
      ],
      "text/markdown": [
       "1. 10.21\n",
       "2. 10.7\n",
       "3. 13.595\n",
       "4. 11.875\n",
       "5. 10.785\n",
       "6. 11.795\n",
       "7. 12.815\n",
       "8. 11.525\n",
       "9. 11.04\n",
       "10. 13.67\n",
       "11. 13.13\n",
       "\n",
       "\n"
      ],
      "text/plain": [
       " [1] 10.210 10.700 13.595 11.875 10.785 11.795 12.815 11.525 11.040 13.670\n",
       "[11] 13.130"
      ]
     },
     "metadata": {},
     "output_type": "display_data"
    }
   ],
   "source": [
    "vola_at_reg_ts = infer_values(reg_ts, other_irreg)[,vola]\n",
    "vola_at_reg_ts"
   ]
  },
  {
   "cell_type": "markdown",
   "id": "c8979860",
   "metadata": {},
   "source": [
    "##### Using The Function To Get Values At Reference Times"
   ]
  },
  {
   "cell_type": "code",
   "execution_count": 11,
   "id": "35016901",
   "metadata": {
    "ExecuteTime": {
     "end_time": "2024-02-07T21:29:58.318833Z",
     "start_time": "2024-02-07T21:29:57.834Z"
    }
   },
   "outputs": [
    {
     "data": {
      "text/html": [
       "<style>\n",
       ".list-inline {list-style: none; margin:0; padding: 0}\n",
       ".list-inline>li {display: inline-block}\n",
       ".list-inline>li:not(:last-child)::after {content: \"\\00b7\"; padding: 0 .5ex}\n",
       "</style>\n",
       "<ol class=list-inline><li>&lt;NA&gt;</li><li>10.7</li><li>12.395</li><li>13.595</li><li>13.595</li><li>11.795</li><li>11.795</li><li>11.525</li><li>11.525</li><li>11.04</li><li>11.665</li></ol>\n"
      ],
      "text/latex": [
       "\\begin{enumerate*}\n",
       "\\item <NA>\n",
       "\\item 10.7\n",
       "\\item 12.395\n",
       "\\item 13.595\n",
       "\\item 13.595\n",
       "\\item 11.795\n",
       "\\item 11.795\n",
       "\\item 11.525\n",
       "\\item 11.525\n",
       "\\item 11.04\n",
       "\\item 11.665\n",
       "\\end{enumerate*}\n"
      ],
      "text/markdown": [
       "1. &lt;NA&gt;\n",
       "2. 10.7\n",
       "3. 12.395\n",
       "4. 13.595\n",
       "5. 13.595\n",
       "6. 11.795\n",
       "7. 11.795\n",
       "8. 11.525\n",
       "9. 11.525\n",
       "10. 11.04\n",
       "11. 11.665\n",
       "\n",
       "\n"
      ],
      "text/plain": [
       " [1]     NA 10.700 12.395 13.595 13.595 11.795 11.795 11.525 11.525 11.040\n",
       "[11] 11.665"
      ]
     },
     "metadata": {},
     "output_type": "display_data"
    }
   ],
   "source": [
    "vola_at_reference_ts = infer_values(regular_values[,reference_time], other_irreg)[,vola]\n",
    "vola_at_reference_ts"
   ]
  },
  {
   "cell_type": "markdown",
   "id": "828ede36",
   "metadata": {},
   "source": [
    "### Putting all the data together"
   ]
  },
  {
   "cell_type": "code",
   "execution_count": 12,
   "id": "6340a43f",
   "metadata": {
    "ExecuteTime": {
     "end_time": "2024-02-07T21:29:58.347701Z",
     "start_time": "2024-02-07T21:29:57.835Z"
    }
   },
   "outputs": [
    {
     "data": {
      "text/html": [
       "<table class=\"dataframe\">\n",
       "<caption>A data.table: 11 × 5</caption>\n",
       "<thead>\n",
       "\t<tr><th scope=col>time</th><th scope=col>price</th><th scope=col>price_ref_time</th><th scope=col>current_vola</th><th scope=col>reference_vola</th></tr>\n",
       "\t<tr><th scope=col>&lt;dbl&gt;</th><th scope=col>&lt;dbl&gt;</th><th scope=col>&lt;dbl&gt;</th><th scope=col>&lt;dbl&gt;</th><th scope=col>&lt;dbl&gt;</th></tr>\n",
       "</thead>\n",
       "<tbody>\n",
       "\t<tr><td> 95</td><td>   NA</td><td> NA</td><td>10.210</td><td>    NA</td></tr>\n",
       "\t<tr><td>185</td><td>21.17</td><td>185</td><td>10.700</td><td>10.700</td></tr>\n",
       "\t<tr><td>275</td><td>24.74</td><td>255</td><td>13.595</td><td>12.395</td></tr>\n",
       "\t<tr><td>365</td><td>25.60</td><td>286</td><td>11.875</td><td>13.595</td></tr>\n",
       "\t<tr><td>455</td><td>25.60</td><td>286</td><td>10.785</td><td>13.595</td></tr>\n",
       "\t<tr><td>545</td><td>29.88</td><td>519</td><td>11.795</td><td>11.795</td></tr>\n",
       "\t<tr><td>635</td><td>29.88</td><td>519</td><td>12.815</td><td>11.795</td></tr>\n",
       "\t<tr><td>725</td><td>23.90</td><td>719</td><td>11.525</td><td>11.525</td></tr>\n",
       "\t<tr><td>815</td><td>29.05</td><td>736</td><td>11.040</td><td>11.525</td></tr>\n",
       "\t<tr><td>905</td><td>24.46</td><td>830</td><td>13.670</td><td>11.040</td></tr>\n",
       "\t<tr><td>995</td><td>23.88</td><td>940</td><td>13.130</td><td>11.665</td></tr>\n",
       "</tbody>\n",
       "</table>\n"
      ],
      "text/latex": [
       "A data.table: 11 × 5\n",
       "\\begin{tabular}{lllll}\n",
       " time & price & price\\_ref\\_time & current\\_vola & reference\\_vola\\\\\n",
       " <dbl> & <dbl> & <dbl> & <dbl> & <dbl>\\\\\n",
       "\\hline\n",
       "\t  95 &    NA &  NA & 10.210 &     NA\\\\\n",
       "\t 185 & 21.17 & 185 & 10.700 & 10.700\\\\\n",
       "\t 275 & 24.74 & 255 & 13.595 & 12.395\\\\\n",
       "\t 365 & 25.60 & 286 & 11.875 & 13.595\\\\\n",
       "\t 455 & 25.60 & 286 & 10.785 & 13.595\\\\\n",
       "\t 545 & 29.88 & 519 & 11.795 & 11.795\\\\\n",
       "\t 635 & 29.88 & 519 & 12.815 & 11.795\\\\\n",
       "\t 725 & 23.90 & 719 & 11.525 & 11.525\\\\\n",
       "\t 815 & 29.05 & 736 & 11.040 & 11.525\\\\\n",
       "\t 905 & 24.46 & 830 & 13.670 & 11.040\\\\\n",
       "\t 995 & 23.88 & 940 & 13.130 & 11.665\\\\\n",
       "\\end{tabular}\n"
      ],
      "text/markdown": [
       "\n",
       "A data.table: 11 × 5\n",
       "\n",
       "| time &lt;dbl&gt; | price &lt;dbl&gt; | price_ref_time &lt;dbl&gt; | current_vola &lt;dbl&gt; | reference_vola &lt;dbl&gt; |\n",
       "|---|---|---|---|---|\n",
       "|  95 |    NA |  NA | 10.210 |     NA |\n",
       "| 185 | 21.17 | 185 | 10.700 | 10.700 |\n",
       "| 275 | 24.74 | 255 | 13.595 | 12.395 |\n",
       "| 365 | 25.60 | 286 | 11.875 | 13.595 |\n",
       "| 455 | 25.60 | 286 | 10.785 | 13.595 |\n",
       "| 545 | 29.88 | 519 | 11.795 | 11.795 |\n",
       "| 635 | 29.88 | 519 | 12.815 | 11.795 |\n",
       "| 725 | 23.90 | 719 | 11.525 | 11.525 |\n",
       "| 815 | 29.05 | 736 | 11.040 | 11.525 |\n",
       "| 905 | 24.46 | 830 | 13.670 | 11.040 |\n",
       "| 995 | 23.88 | 940 | 13.130 | 11.665 |\n",
       "\n"
      ],
      "text/plain": [
       "   time price price_ref_time current_vola reference_vola\n",
       "1   95     NA  NA            10.210           NA        \n",
       "2  185  21.17 185            10.700       10.700        \n",
       "3  275  24.74 255            13.595       12.395        \n",
       "4  365  25.60 286            11.875       13.595        \n",
       "5  455  25.60 286            10.785       13.595        \n",
       "6  545  29.88 519            11.795       11.795        \n",
       "7  635  29.88 519            12.815       11.795        \n",
       "8  725  23.90 719            11.525       11.525        \n",
       "9  815  29.05 736            11.040       11.525        \n",
       "10 905  24.46 830            13.670       11.040        \n",
       "11 995  23.88 940            13.130       11.665        "
      ]
     },
     "metadata": {},
     "output_type": "display_data"
    }
   ],
   "source": [
    "regular_values[, current_vola:=vola_at_reg_ts]\n",
    "regular_values[, reference_vola:=vola_at_reference_ts]\n",
    "setnames(regular_values, 'reference_time', 'price_ref_time', skip_absent=T)\n",
    "\n",
    "regular_values"
   ]
  },
  {
   "cell_type": "markdown",
   "id": "acb743b8",
   "metadata": {
    "ExecuteTime": {
     "end_time": "2024-02-07T21:29:58.464813Z",
     "start_time": "2024-02-07T21:29:57.835Z"
    }
   },
   "source": [
    "### Plot"
   ]
  },
  {
   "cell_type": "code",
   "execution_count": 42,
   "id": "6776d6f9",
   "metadata": {
    "ExecuteTime": {
     "end_time": "2024-02-07T21:48:49.260588Z",
     "start_time": "2024-02-07T21:48:48.932Z"
    }
   },
   "outputs": [
    {
     "name": "stderr",
     "output_type": "stream",
     "text": [
      "Warning message:\n",
      "“\u001b[1m\u001b[22mRemoved 1 rows containing missing values (`geom_vline()`).”\n",
      "Warning message:\n",
      "“\u001b[1m\u001b[22mRemoved 1 rows containing missing values (`geom_point()`).”\n",
      "Warning message:\n",
      "“\u001b[1m\u001b[22mRemoved 1 rows containing missing values (`geom_point()`).”\n"
     ]
    },
    {
     "data": {
      "image/png": "[encoded data removed]",
      "text/plain": [
       "plot without title"
      ]
     },
     "metadata": {
      "image/png": {
       "height": 780,
       "width": 780
      }
     },
     "output_type": "display_data"
    }
   ],
   "source": [
    "options(repr.plot.width =13, repr.plot.height =13) \n",
    "(\n",
    "    ggplot(irreg,aes(x=time,y=price)) \n",
    "    + geom_vline(data=regular_values, mapping=aes(xintercept=time), color='darkgray') \n",
    "    + geom_vline(data=regular_values, mapping=aes(xintercept=price_ref_time), color='lightblue', linetype=\"dashed\") \n",
    "    + geom_step() \n",
    "    + geom_point(data=regular_values, color='red', size=4) \n",
    "    + geom_step(data=other_irreg, mapping=aes(x=time,y=vola), color='blue')\n",
    "    + geom_point(data=regular_values, mapping=aes(x=time,y=current_vola), color='darkgreen', size=4) \n",
    "    + geom_point(data=regular_values, mapping=aes(x=price_ref_time,y=reference_vola), color='lightgreen', size=4) \n",
    "    + labs(title=\"Inferring Time Series Values At Desired Points\")\n",
    "    + theme_void()\n",
    ")\n"
   ]
  },
  {
   "cell_type": "code",
   "execution_count": null,
   "id": "ca618b01",
   "metadata": {},
   "outputs": [],
   "source": []
  }
 ],
 "metadata": {
  "kernelspec": {
   "display_name": "JCS R (release)",
   "language": "R",
   "name": "jcs_r_release"
  },
  "language_info": {
   "codemirror_mode": "r",
   "file_extension": ".r",
   "mimetype": "text/x-r-source",
   "name": "R",
   "pygments_lexer": "r",
   "version": "4.2.2"
  }
 },
 "nbformat": 4,
 "nbformat_minor": 5
}
